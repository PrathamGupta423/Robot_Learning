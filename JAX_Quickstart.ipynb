{
  "cells": [
    {
      "cell_type": "markdown",
      "metadata": {
        "id": "view-in-github",
        "colab_type": "text"
      },
      "source": [
        "<a href=\"https://colab.research.google.com/github/PrathamGupta423/Robot_Learning/blob/main/JAX_Quickstart.ipynb\" target=\"_parent\"><img src=\"https://colab.research.google.com/assets/colab-badge.svg\" alt=\"Open In Colab\"/></a>"
      ]
    },
    {
      "cell_type": "markdown",
      "metadata": {
        "id": "xtWX4x9DCF5_"
      },
      "source": [
        "# JAX Quickstart\n",
        "\n",
        "**JAX is NumPy on the CPU, GPU, and TPU, with great automatic differentiation for high-performance machine learning research.**\n",
        "\n",
        "With its updated version of [Autograd](https://github.com/hips/autograd), JAX\n",
        "can automatically differentiate native Python and NumPy code. It can\n",
        "differentiate through a large subset of Python's features, including loops, ifs,\n",
        "recursion, and closures, and it can even take derivatives of derivatives of\n",
        "derivatives. It supports reverse-mode as well as forward-mode differentiation, and the two can be composed arbitrarily\n",
        "to any order.\n",
        "\n",
        "What's new is that JAX uses\n",
        "[XLA](https://www.tensorflow.org/xla)\n",
        "to compile and run your NumPy code on accelerators, like GPUs and TPUs.\n",
        "Compilation happens under the hood by default, with library calls getting\n",
        "just-in-time compiled and executed. But JAX even lets you just-in-time compile\n",
        "your own Python functions into XLA-optimized kernels using a one-function API.\n",
        "Compilation and automatic differentiation can be composed arbitrarily, so you\n",
        "can express sophisticated algorithms and get maximal performance without having\n",
        "to leave Python."
      ]
    },
    {
      "cell_type": "code",
      "execution_count": null,
      "metadata": {
        "id": "SY8mDvEvCGqk"
      },
      "outputs": [],
      "source": [
        "import jax.numpy as jnp\n",
        "from jax import grad, jit, vmap\n",
        "from jax import random"
      ]
    },
    {
      "cell_type": "markdown",
      "metadata": {
        "id": "FQ89jHCYfhpg"
      },
      "source": [
        "## Multiplying Matrices"
      ]
    },
    {
      "cell_type": "markdown",
      "metadata": {
        "id": "Xpy1dSgNqCP4"
      },
      "source": [
        "We'll be generating random data in the following examples. One big difference between NumPy and JAX is how you generate random numbers. For more details, see [Common Gotchas in JAX].\n",
        "\n",
        "[Common Gotchas in JAX]: https://jax.readthedocs.io/en/latest/notebooks/Common_Gotchas_in_JAX.html#%F0%9F%94%AA-Random-Numbers"
      ]
    },
    {
      "cell_type": "code",
      "execution_count": null,
      "metadata": {
        "id": "u0nseKZNqOoH",
        "outputId": "25d0c4d8-8299-4495-b8f3-927414bca536",
        "colab": {
          "base_uri": "https://localhost:8080/"
        }
      },
      "outputs": [
        {
          "output_type": "stream",
          "name": "stdout",
          "text": [
            "[-0.3721109   0.26423115 -0.18252768 -0.7368197  -0.44030377 -0.1521442\n",
            " -0.67135346 -0.5908641   0.73168886  0.5673026 ]\n"
          ]
        }
      ],
      "source": [
        "key = random.key(0)\n",
        "x = random.normal(key, (10,))\n",
        "print(x)"
      ]
    },
    {
      "cell_type": "markdown",
      "metadata": {
        "id": "hDJF0UPKnuqB"
      },
      "source": [
        "Let's dive right in and multiply two big matrices."
      ]
    },
    {
      "cell_type": "code",
      "execution_count": null,
      "metadata": {
        "id": "eXn8GUl6CG5N",
        "outputId": "a6625d5d-ed8e-4b7b-901f-056d01134c98",
        "colab": {
          "base_uri": "https://localhost:8080/"
        }
      },
      "outputs": [
        {
          "output_type": "stream",
          "name": "stdout",
          "text": [
            "13.6 ms ± 2.05 ms per loop (mean ± std. dev. of 7 runs, 1 loop each)\n"
          ]
        }
      ],
      "source": [
        "size = 3000\n",
        "x = random.normal(key, (size, size), dtype=jnp.float32)\n",
        "%timeit jnp.dot(x, x.T).block_until_ready()  # runs on the GPU"
      ]
    },
    {
      "cell_type": "markdown",
      "metadata": {
        "id": "0AlN7EbonyaR"
      },
      "source": [
        "We added that `block_until_ready` because JAX uses asynchronous execution by default (see `async-dispatch`).\n",
        "\n",
        "JAX NumPy functions work on regular NumPy arrays."
      ]
    },
    {
      "cell_type": "code",
      "execution_count": null,
      "metadata": {
        "id": "ZPl0MuwYrM7t",
        "outputId": "969793c4-15ae-41ec-e764-dd31fdaef6d8",
        "colab": {
          "base_uri": "https://localhost:8080/"
        }
      },
      "outputs": [
        {
          "output_type": "stream",
          "name": "stdout",
          "text": [
            "43.3 ms ± 5.53 ms per loop (mean ± std. dev. of 7 runs, 10 loops each)\n"
          ]
        }
      ],
      "source": [
        "import numpy as np\n",
        "x = np.random.normal(size=(size, size)).astype(np.float32)\n",
        "%timeit jnp.dot(x, x.T).block_until_ready()"
      ]
    },
    {
      "cell_type": "markdown",
      "metadata": {
        "id": "_SrcB2IurUuE"
      },
      "source": [
        "**That**'s slower because it has to transfer data to the GPU every time. You can ensure that an NDArray is backed by device memory using `jax.device_put`."
      ]
    },
    {
      "cell_type": "code",
      "execution_count": null,
      "metadata": {
        "id": "Jj7M7zyRskF0",
        "outputId": "2aceff73-7df9-49ac-b524-af17e193ddb5",
        "colab": {
          "base_uri": "https://localhost:8080/"
        }
      },
      "outputs": [
        {
          "output_type": "stream",
          "name": "stdout",
          "text": [
            "15.8 ms ± 113 µs per loop (mean ± std. dev. of 7 runs, 100 loops each)\n"
          ]
        }
      ],
      "source": [
        "from jax import device_put\n",
        "\n",
        "x = np.random.normal(size=(size, size)).astype(np.float32)\n",
        "x = device_put(x)\n",
        "%timeit jnp.dot(x, x.T).block_until_ready()"
      ]
    },
    {
      "cell_type": "markdown",
      "metadata": {
        "id": "clO9djnen8qi"
      },
      "source": [
        "The output of `jax.device_put` still acts like an NDArray, but it only copies values back to the CPU when they're needed for printing, plotting, saving to disk, branching, etc. The behavior of `jax.device_put` is equivalent to the function `jit(lambda x: x)`, but it's faster."
      ]
    },
    {
      "cell_type": "markdown",
      "metadata": {
        "id": "ghkfKNQttDpg"
      },
      "source": [
        "If you have a GPU (or TPU!) these calls run on the accelerator and have the potential to be much faster than on CPU.\n",
        "See `faq-jax-vs-numpy` for more comparison of performance characteristics of NumPy and JAX"
      ]
    },
    {
      "cell_type": "markdown",
      "metadata": {
        "id": "iOzp0P_GoJhb"
      },
      "source": [
        "JAX is much more than just a GPU-backed NumPy. It also comes with a few program transformations that are useful when writing numerical code. For now, there are three main ones:\n",
        "\n",
        " - `jax.jit`, for speeding up your code\n",
        " - `jax.grad`, for taking derivatives\n",
        " - `jax.vmap`, for automatic vectorization or batching.\n",
        "\n",
        "Let's go over these, one-by-one. We'll also end up composing these in interesting ways."
      ]
    },
    {
      "cell_type": "markdown",
      "metadata": {
        "id": "bTTrTbWvgLUK"
      },
      "source": [
        "## Using `jax.jit` to speed up functions"
      ]
    },
    {
      "cell_type": "markdown",
      "metadata": {
        "id": "YrqE32mvE3b7"
      },
      "source": [
        "JAX runs transparently on the GPU or TPU (falling back to CPU if you don't have one). However, in the above example, JAX is dispatching kernels to the GPU one operation at a time. If we have a sequence of operations, we can use the `@jit` decorator to compile multiple operations together using [XLA](https://www.tensorflow.org/xla). Let's try that."
      ]
    },
    {
      "cell_type": "code",
      "execution_count": null,
      "metadata": {
        "id": "qLGdCtFKFLOR",
        "outputId": "44009429-9fe4-4060-bdd4-b8538e494491",
        "colab": {
          "base_uri": "https://localhost:8080/"
        }
      },
      "outputs": [
        {
          "output_type": "stream",
          "name": "stdout",
          "text": [
            "961 µs ± 58.5 µs per loop (mean ± std. dev. of 7 runs, 1 loop each)\n"
          ]
        }
      ],
      "source": [
        "def selu(x, alpha=1.67, lmbda=1.05):\n",
        "  return lmbda * jnp.where(x > 0, x, alpha * jnp.exp(x) - alpha)\n",
        "\n",
        "x = random.normal(key, (1000000,))\n",
        "%timeit selu(x).block_until_ready()"
      ]
    },
    {
      "cell_type": "markdown",
      "metadata": {
        "id": "a_V8SruVHrD_"
      },
      "source": [
        "We can speed it up with `@jit`, which will jit-compile the first time `selu` is called and will be cached thereafter."
      ]
    },
    {
      "cell_type": "code",
      "execution_count": null,
      "metadata": {
        "id": "fh4w_3NpFYTp",
        "outputId": "5f24cdc7-8988-42e9-9b49-b74b1b36ccc2",
        "colab": {
          "base_uri": "https://localhost:8080/"
        }
      },
      "outputs": [
        {
          "output_type": "stream",
          "name": "stdout",
          "text": [
            "145 µs ± 10.1 µs per loop (mean ± std. dev. of 7 runs, 10000 loops each)\n"
          ]
        }
      ],
      "source": [
        "selu_jit = jit(selu)\n",
        "%timeit selu_jit(x).block_until_ready()"
      ]
    },
    {
      "cell_type": "markdown",
      "metadata": {
        "id": "HxpBc4WmfsEU"
      },
      "source": [
        "## Taking derivatives with `jax.grad`\n",
        "\n",
        "In addition to evaluating numerical functions, we also want to transform them. One transformation is [automatic differentiation](https://en.wikipedia.org/wiki/Automatic_differentiation). In JAX, just like in [Autograd](https://github.com/HIPS/autograd), you can compute gradients with the `jax.grad` function."
      ]
    },
    {
      "cell_type": "code",
      "execution_count": null,
      "metadata": {
        "id": "IMAgNJaMJwPD",
        "outputId": "c568a40e-e49f-4900-fba8-d6db21031e5b",
        "colab": {
          "base_uri": "https://localhost:8080/"
        }
      },
      "outputs": [
        {
          "output_type": "stream",
          "name": "stdout",
          "text": [
            "[0.25       0.19661194 0.10499357]\n"
          ]
        }
      ],
      "source": [
        "def sum_logistic(x):\n",
        "  return jnp.sum(1.0 / (1.0 + jnp.exp(-x)))\n",
        "\n",
        "x_small = jnp.arange(3.)\n",
        "derivative_fn = grad(sum_logistic)\n",
        "print(derivative_fn(x_small))"
      ]
    },
    {
      "cell_type": "markdown",
      "metadata": {
        "id": "PtNs881Ohioc"
      },
      "source": [
        "Let's verify with finite differences that our result is correct."
      ]
    },
    {
      "cell_type": "code",
      "execution_count": null,
      "metadata": {
        "id": "JXI7_OZuKZVO",
        "outputId": "884e1632-0319-40a8-ca98-e24cc4a2176a",
        "colab": {
          "base_uri": "https://localhost:8080/"
        }
      },
      "outputs": [
        {
          "output_type": "stream",
          "name": "stdout",
          "text": [
            "[0.24998187 0.1965761  0.10502338]\n"
          ]
        }
      ],
      "source": [
        "def first_finite_differences(f, x):\n",
        "  eps = 1e-3\n",
        "  return jnp.array([(f(x + eps * v) - f(x - eps * v)) / (2 * eps)\n",
        "                   for v in jnp.eye(len(x))])\n",
        "\n",
        "\n",
        "print(first_finite_differences(sum_logistic, x_small))"
      ]
    },
    {
      "cell_type": "markdown",
      "metadata": {
        "id": "Q2CUZjOWNZ-3"
      },
      "source": [
        "Taking derivatives is as easy as calling `jax.grad`. `jax.grad` and `jax.jit` compose and can be mixed arbitrarily. In the above example we jitted `sum_logistic` and then took its derivative. We can go further:"
      ]
    },
    {
      "cell_type": "code",
      "execution_count": null,
      "metadata": {
        "id": "TO4g8ny-OEi4",
        "outputId": "a723c3dc-372d-450c-8e1c-bc09c612153f",
        "colab": {
          "base_uri": "https://localhost:8080/"
        }
      },
      "outputs": [
        {
          "output_type": "stream",
          "name": "stdout",
          "text": [
            "-0.0353256\n"
          ]
        }
      ],
      "source": [
        "print(grad(jit(grad(jit(grad(sum_logistic)))))(1.0))"
      ]
    },
    {
      "cell_type": "markdown",
      "metadata": {
        "id": "yCJ5feKvhnBJ"
      },
      "source": [
        "For more advanced autodiff, you can use `jax.vjp` for reverse-mode vector-Jacobian products and `jax.jvp` for forward-mode Jacobian-vector products. The two can be composed arbitrarily with one another, and with other JAX transformations. Here's one way to compose them to make a function that efficiently computes full Hessian matrices:"
      ]
    },
    {
      "cell_type": "code",
      "execution_count": null,
      "metadata": {
        "id": "Z-JxbiNyhxEW"
      },
      "outputs": [],
      "source": [
        "from jax import jacfwd, jacrev\n",
        "def hessian(fun):\n",
        "  return jit(jacfwd(jacrev(fun)))"
      ]
    },
    {
      "cell_type": "markdown",
      "metadata": {
        "id": "TI4nPsGafxbL"
      },
      "source": [
        "## Auto-vectorization with `jax.vmap`"
      ]
    },
    {
      "cell_type": "markdown",
      "metadata": {
        "id": "PcxkONy5aius"
      },
      "source": [
        "JAX has one more transformation in its API that you might find useful: `jax.vmap`, the vectorizing map. It has the familiar semantics of mapping a function along array axes, but instead of keeping the loop on the outside, it pushes the loop down into a function's primitive operations for better performance. When composed with `jax.jit`, it can be just as fast as adding the batch dimensions by hand."
      ]
    },
    {
      "cell_type": "markdown",
      "metadata": {
        "id": "TPiX4y-bWLFS"
      },
      "source": [
        "We're going to work with a simple example, and promote matrix-vector products into matrix-matrix products using `jax.vmap`. Although this is easy to do by hand in this specific case, the same technique can apply to more complicated functions."
      ]
    },
    {
      "cell_type": "code",
      "execution_count": null,
      "metadata": {
        "id": "8w0Gpsn8WYYj"
      },
      "outputs": [],
      "source": [
        "mat = random.normal(key, (150, 100))\n",
        "batched_x = random.normal(key, (10, 100))\n",
        "\n",
        "def apply_matrix(v):\n",
        "  return jnp.dot(mat, v)"
      ]
    },
    {
      "cell_type": "markdown",
      "metadata": {
        "id": "0zWsc0RisQWx"
      },
      "source": [
        "Given a function such as `apply_matrix`, we can loop over a batch dimension in Python, but usually the performance of doing so is poor."
      ]
    },
    {
      "cell_type": "code",
      "execution_count": null,
      "metadata": {
        "id": "KWVc9BsZv0Ki",
        "outputId": "145d7da9-1b5f-463f-99cc-31a07e201148",
        "colab": {
          "base_uri": "https://localhost:8080/"
        }
      },
      "outputs": [
        {
          "output_type": "stream",
          "name": "stdout",
          "text": [
            "Naively batched\n",
            "2.89 ms ± 107 µs per loop (mean ± std. dev. of 7 runs, 1 loop each)\n"
          ]
        }
      ],
      "source": [
        "def naively_batched_apply_matrix(v_batched):\n",
        "  return jnp.stack([apply_matrix(v) for v in v_batched])\n",
        "\n",
        "print('Naively batched')\n",
        "%timeit naively_batched_apply_matrix(batched_x).block_until_ready()"
      ]
    },
    {
      "cell_type": "markdown",
      "metadata": {
        "id": "qHfKaLE9stbA"
      },
      "source": [
        "We know how to batch this operation manually. In this case, `jnp.dot` handles extra batch dimensions transparently."
      ]
    },
    {
      "cell_type": "code",
      "execution_count": null,
      "metadata": {
        "id": "ipei6l8nvrzH",
        "outputId": "223d5dd6-bd4c-4f11-95a2-b29f091cfa8d",
        "colab": {
          "base_uri": "https://localhost:8080/"
        }
      },
      "outputs": [
        {
          "output_type": "stream",
          "name": "stdout",
          "text": [
            "Manually batched\n",
            "115 µs ± 19.1 µs per loop (mean ± std. dev. of 7 runs, 10000 loops each)\n"
          ]
        }
      ],
      "source": [
        "@jit\n",
        "def batched_apply_matrix(v_batched):\n",
        "  return jnp.dot(v_batched, mat.T)\n",
        "\n",
        "print('Manually batched')\n",
        "%timeit batched_apply_matrix(batched_x).block_until_ready()"
      ]
    },
    {
      "cell_type": "markdown",
      "metadata": {
        "id": "1eF8Nhb-szAb"
      },
      "source": [
        "However, suppose we had a more complicated function without batching support. We can use `jax.vmap` to add batching support automatically."
      ]
    },
    {
      "cell_type": "code",
      "execution_count": null,
      "metadata": {
        "id": "67Oeknf5vuCl",
        "outputId": "5edd316a-14d1-4ae9-f7b3-aa9fa831c14c",
        "colab": {
          "base_uri": "https://localhost:8080/"
        }
      },
      "outputs": [
        {
          "output_type": "stream",
          "name": "stdout",
          "text": [
            "Auto-vectorized with vmap\n",
            "125 µs ± 17.4 µs per loop (mean ± std. dev. of 7 runs, 10000 loops each)\n"
          ]
        }
      ],
      "source": [
        "@jit\n",
        "def vmap_batched_apply_matrix(v_batched):\n",
        "  return vmap(apply_matrix)(v_batched)\n",
        "\n",
        "print('Auto-vectorized with vmap')\n",
        "%timeit vmap_batched_apply_matrix(batched_x).block_until_ready()"
      ]
    },
    {
      "cell_type": "markdown",
      "metadata": {
        "id": "pYVl3Z2nbZhO"
      },
      "source": [
        "Of course, `jax.vmap` can be arbitrarily composed with `jax.jit`, `jax.grad`, and any other JAX transformation."
      ]
    }
  ],
  "metadata": {
    "accelerator": "GPU",
    "colab": {
      "provenance": [],
      "include_colab_link": true
    },
    "jupytext": {
      "formats": "ipynb,md:myst"
    },
    "kernelspec": {
      "display_name": "Python 3",
      "language": "python",
      "name": "python3"
    },
    "language_info": {
      "codemirror_mode": {
        "name": "ipython",
        "version": 3
      },
      "file_extension": ".py",
      "mimetype": "text/x-python",
      "name": "python",
      "nbconvert_exporter": "python",
      "pygments_lexer": "ipython3",
      "version": "3.7.6"
    }
  },
  "nbformat": 4,
  "nbformat_minor": 0
}